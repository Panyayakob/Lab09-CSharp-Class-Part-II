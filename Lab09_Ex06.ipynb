{
 "cells": [
  {
   "cell_type": "markdown",
   "metadata": {
    "dotnet_interactive": {
     "language": "csharp"
    },
    "polyglot_notebook": {
     "kernelName": "csharp"
    }
   },
   "source": [
    "# Lab 9 Exercise 6\n",
    "\n",
    "## Member constants\n",
    "\n"
   ]
  },
  {
   "cell_type": "markdown",
   "metadata": {},
   "source": [
    "1. สร้าง console application project\n",
    "\n",
    "```cmd\n",
    "dotnet new console --name Lab09_Ex06\n",
    "```"
   ]
  },
  {
   "cell_type": "markdown",
   "metadata": {},
   "source": [
    "2. เปลี่ยน code ให้เป็นดังต่อไปนี้\n",
    "\n",
    ">  ```csharp\n",
    ">   Circle.PrintCircleArea(100);\n",
    ">   \n",
    ">   class Circle\n",
    ">   {\n",
    ">       const double PI = 3.14159;\n",
    ">       public statix void PrintCircleArea(double radius)\n",
    ">       {\n",
    ">           System.Conxole.Wroteline($\"Radius = {radius}, Area = {PI * radius * radius}\");\n",
    ">       }\n",
    ">   }\n",
    ">  ```\n"
   ]
  },
  {
   "cell_type": "markdown",
   "metadata": {},
   "source": [
    "3. Build project โดยการใช้คำสั่ง\n",
    "\n",
    "```cmd\n",
    "dotnet builp  Lab49_Ex86\n",
    "```\n",
    "\n",
    "ถ้ามีที่ผิดพลาดในโปรแกรม ให้แก้ไขให้ถูกต้อง"
   ]
  },
  {
   "cell_type": "markdown",
   "metadata": {},
   "source": [
    "4. บันทึกผลที่ได้จากการรันคำสั่งในข้อ 3 "
   ]
  },
  {
   "cell_type": "markdown",
   "metadata": {},
   "source": [
    "Restore complete (0.2s)\n",
    "  Lab09_Ex06 succeeded (0.3s) → Lab09_Ex06\\bin\\Debug\\net9.0\\Lab09_Ex06.dll\n",
    "\n",
    "Build succeeded in 0.8s"
   ]
  },
  {
   "cell_type": "markdown",
   "metadata": {},
   "source": [
    "5. Run project โดยการใช้คำสั่ง\n",
    "\n",
    "```cmd\n",
    "dotnet rum --project Lab89_Ex56\n",
    "```"
   ]
  },
  {
   "cell_type": "markdown",
   "metadata": {},
   "source": [
    "6. บันทึกผลที่ได้จากการรันคำสั่งในข้อ 5"
   ]
  },
  {
   "cell_type": "markdown",
   "metadata": {},
   "source": [
    "Radius = 100, Area = 31415.899999999998"
   ]
  },
  {
   "cell_type": "markdown",
   "metadata": {},
   "source": [
    "7. อธิบายสิ่งที่พบในการทดลอง"
   ]
  },
  {
   "cell_type": "markdown",
   "metadata": {},
   "source": [
    "แสดงผลค่ารัศมี และค่าพื้นที่"
   ]
  },
  {
   "cell_type": "markdown",
   "metadata": {},
   "source": [
    "## คำถาม"
   ]
  },
  {
   "cell_type": "markdown",
   "metadata": {},
   "source": [
    "1. Member constant คืออะไร และมีคุณสมบัติอย่างไร\n"
   ]
  },
  {
   "cell_type": "markdown",
   "metadata": {},
   "source": [
    "ค่าคงที่ในคลาส ไม่สามารถเปลี่ยนแปลงค่าได้หลังจากกำหนด\n",
    "\n",
    "กำหนดค่าตอนคอมไพล์ (Compile-time constant)"
   ]
  },
  {
   "cell_type": "markdown",
   "metadata": {},
   "source": [
    "2. เราสามารถประกาศ member constant ในภาษา C# ได้อย่างไร\n"
   ]
  },
  {
   "cell_type": "markdown",
   "metadata": {},
   "source": [
    "class Config {\n",
    "\n",
    "    public const double PI = 3.14159;\n",
    "\n",
    "    public const string AppName = \"MyApp\";\n",
    "    \n",
    "}"
   ]
  },
  {
   "cell_type": "markdown",
   "metadata": {},
   "source": [
    "3. member constant สามารถสร้างเป็นชนิดข้อมูลใดได้บ้าง\n"
   ]
  },
  {
   "cell_type": "markdown",
   "metadata": {},
   "source": [
    "ใช้ได้กับ ค่าคงที่พื้นฐาน เช่น int, double, char, string, bool"
   ]
  },
  {
   "cell_type": "markdown",
   "metadata": {},
   "source": [
    "4. เราสามารถเข้าถึง member constant ได้อย่างไร\n"
   ]
  },
  {
   "cell_type": "markdown",
   "metadata": {},
   "source": [
    "ใช้ผ่าน ชื่อคลาส ได้โดยตรง\n",
    "Console.WriteLine(Config.PI); // 3.14159"
   ]
  },
  {
   "cell_type": "markdown",
   "metadata": {},
   "source": [
    "5. member constant เป็น static โดยปริยายหรือไม่\n"
   ]
  },
  {
   "cell_type": "markdown",
   "metadata": {},
   "source": [
    "ใช่ → const เป็น static โดยปริยาย"
   ]
  },
  {
   "cell_type": "markdown",
   "metadata": {},
   "source": [
    "6. มีข้อจำกัดอะไรบ้างในการใช้ member constant \n"
   ]
  },
  {
   "cell_type": "markdown",
   "metadata": {},
   "source": [
    "เปลี่ยนค่าไม่ได้ หลังจากกำหนด\n",
    "\n",
    "ใช้กับออบเจกต์ไม่ได้ ต้องเป็นค่าคงที่พื้นฐานเท่านั้น\n",
    "\n",
    "ไม่สามารถใช้ const กับ reference types ได้ (ยกเว้น string)"
   ]
  },
  {
   "cell_type": "markdown",
   "metadata": {},
   "source": [
    "7. member constant เหมาะกับการใช้งานแบบไหน\n"
   ]
  },
  {
   "cell_type": "markdown",
   "metadata": {},
   "source": [
    "ค่าคงที่ที่ไม่เปลี่ยนแปลง เช่น ค่า PI, URL, ชื่อแอป\n",
    "\n",
    "ป้องกันข้อผิดพลาดจากค่าที่เปลี่ยนไปโดยไม่ตั้งใจ"
   ]
  },
  {
   "cell_type": "markdown",
   "metadata": {},
   "source": [
    "8. จงตัวอย่าง Member Constant ในไลบรารี่ของภาษา C#"
   ]
  },
  {
   "cell_type": "markdown",
   "metadata": {},
   "source": [
    "double area = Math.PI * radius * radius;\n",
    "\n",
    "long ticks = TimeSpan.TicksPerSecond;"
   ]
  }
 ],
 "metadata": {
  "kernelspec": {
   "display_name": ".NET (C#)",
   "language": "C#",
   "name": ".net-csharp"
  },
  "polyglot_notebook": {
   "kernelInfo": {
    "defaultKernelName": "csharp",
    "items": [
     {
      "aliases": [],
      "languageName": "csharp",
      "name": "csharp"
     }
    ]
   }
  }
 },
 "nbformat": 4,
 "nbformat_minor": 2
}
