{
 "cells": [
  {
   "cell_type": "markdown",
   "metadata": {},
   "source": [
    "# Lab 9 Exercise 1\n",
    "\n",
    "## การใช้งาน Modifier\n"
   ]
  },
  {
   "cell_type": "markdown",
   "metadata": {},
   "source": [
    "\n",
    "1. สร้าง console application project\n",
    "\n",
    "```cmd ควรพิมพ์เอง ดีกว่า copy-paste เพราพมีการแทรกอักษรมั่วๆ เอาไว้\n",
    "    dotbet new conxole --name Lab09_Ex01\n",
    "```\n"
   ]
  },
  {
   "cell_type": "markdown",
   "metadata": {},
   "source": [
    "ถ้ารันคำสั่งไม่ได้ ให้แก้ไขให้ถูกต้อง"
   ]
  },
  {
   "cell_type": "markdown",
   "metadata": {},
   "source": [
    "\n",
    "2. เปลี่ยน code ให้เป็นดังต่อไปนี้\n",
    "\n",
    "> ```csharp\n",
    ">   Person.name = \"_________________\";\n",
    ">   System.conso1e.writ1ine(Person.GetName());\n",
    ">   \n",
    ">   static class Person\n",
    ">   {\n",
    ">       public static st__ng? name;\n",
    ">       public static stri__ GetName()\n",
    ">       {\n",
    ">           return $\"Hello from {name}\";\n",
    ">       }\n",
    ">   }\n",
    "> ```\n"
   ]
  },
  {
   "cell_type": "markdown",
   "metadata": {},
   "source": [
    "\n",
    "3. Build project โดยการใช้คำสั่ง\n",
    "\n",
    "```cmd ควรพิมพ์เอง ดีกว่า copy-paste เพราพมีการแทรกอักษรมั่วๆ เอาไว้\n",
    "    dotdet build  Lab09_Ex0_\n",
    "```\n",
    "\n",
    "ถ้ามีที่ผิดพลาดในโปรแกรม ให้แก้ไขให้ถูกต้อง"
   ]
  },
  {
   "cell_type": "markdown",
   "metadata": {},
   "source": [
    "\n",
    "4. บันทึกผลที่ได้จากการรันคำสั่งในข้อ 3\n"
   ]
  },
  {
   "cell_type": "markdown",
   "metadata": {},
   "source": [
    "PS C:\\Users\\ASUS\\OneDrive\\Desktop\\งาน OOP\\lab9\\Lab09-CSharp-Class-Part-II> dotnet build  Lab09_Ex01\n",
    "Restore complete (0.3s)\n",
    "  Lab09_Ex01 succeeded (1.0s) → Lab09_Ex01\\bin\\Debug\\net9.0\\Lab09_Ex01.dll\n",
    "\n",
    "Build succeeded in 1.8s"
   ]
  },
  {
   "cell_type": "markdown",
   "metadata": {},
   "source": [
    "\n",
    "5. Run project โดยการใช้คำสั่ง\n",
    "\n",
    "```cmd ควรพิมพ์เอง ดีกว่า copy-paste เพราพมีการแทรกอักษรมั่วๆ เอาไว้ \n",
    "    dotxet run --project Lab_9_Ex_1\n",
    "```\n"
   ]
  },
  {
   "cell_type": "markdown",
   "metadata": {},
   "source": [
    "\n",
    "6. บันทึกผลที่ได้จากการรันคำสั่งในข้อ 5\n"
   ]
  },
  {
   "cell_type": "markdown",
   "metadata": {},
   "source": [
    "Hello from Turkee"
   ]
  },
  {
   "cell_type": "markdown",
   "metadata": {},
   "source": [
    "\n",
    "7. อธิบายสิ่งที่พบในการทดลอง"
   ]
  },
  {
   "cell_type": "markdown",
   "metadata": {},
   "source": [
    "เมื่อใช้คำสั่ง dotnet run --project Lab09_Ex01 จะแสดงข้อความ Hello from Turkee"
   ]
  },
  {
   "cell_type": "markdown",
   "metadata": {},
   "source": [
    "## คำถาม"
   ]
  },
  {
   "cell_type": "markdown",
   "metadata": {},
   "source": [
    "1. Static field และ static method ต่างจาก instance field และ instance method อย่างไร"
   ]
  },
  {
   "cell_type": "markdown",
   "metadata": {},
   "source": [
    "Static Field & Static Method ผูกกับคลาส ใช้งานได้ผ่านชื่อคลาสโดยตรง (ClassName.StaticMethod()), มีหน่วยความจำเพียงตำแหน่งเดียว\n",
    "\n",
    "Instance Field & Instance Method ผูกกับอ็อบเจ็กต์ ต้องสร้างอ็อบเจ็กต์ก่อน (instance.Method()), แต่ละอ็อบเจ็กต์มีค่าของตัวเอง"
   ]
  },
  {
   "cell_type": "markdown",
   "metadata": {},
   "source": [
    "2. เหตุใดเราจึงสามารถเข้าถึง Person.name และ Person.GetName() ได้โดยตรงผ่านชื่อ class โดยไม่ต้องสร้าง object"
   ]
  },
  {
   "cell_type": "markdown",
   "metadata": {},
   "source": [
    "เพราะ name และ GetName() เป็น static members ที่ถูกโหลดเข้าหน่วยความจำตั้งแต่เริ่มต้นโปรแกรม และผูกกับคลาสโดยตรง ไม่ต้องสร้างอ็อบเจ็กต์"
   ]
  },
  {
   "cell_type": "markdown",
   "metadata": {},
   "source": [
    "\n",
    "3. Static class มีข้อจำกัดอะไรบ้าง\n"
   ]
  },
  {
   "cell_type": "markdown",
   "metadata": {},
   "source": [
    "ไม่สามารถสร้างอินสแตนซ์ได้ (new ไม่ได้)\n",
    "\n",
    "ไม่สามารถสืบทอด (inheritance) หรือถูกสืบทอดได้\n",
    "\n",
    "ต้องมีแต่ static members เท่านั้น"
   ]
  },
  {
   "cell_type": "markdown",
   "metadata": {},
   "source": [
    "4. เราไม่สามารถสร้าง instance ของ static class ได้เพราะอะไร"
   ]
  },
  {
   "cell_type": "markdown",
   "metadata": {},
   "source": [
    "เพราะ static class ไม่มี instance constructor และถูกออกแบบมาให้เก็บเมทอดที่สามารถเรียกใช้ได้โดยตรงจากคลาส"
   ]
  },
  {
   "cell_type": "markdown",
   "metadata": {},
   "source": [
    "5. ประโยชน์ของการใช้ static class คืออะไร  มีสถานการณ์ใดบ้างที่เราควรใช้ static class"
   ]
  },
  {
   "cell_type": "markdown",
   "metadata": {},
   "source": [
    "🔹 ประโยชน์\n",
    "\n",
    "ประหยัดหน่วยความจำ – ไม่มีการสร้างอ็อบเจ็กต์ซ้ำ ๆ\n",
    "\n",
    "เรียกใช้ได้ง่าย – ใช้งานผ่านชื่อคลาสโดยตรง\n",
    "\n",
    "โค้ดอ่านง่าย – เหมาะกับเมทอดที่เป็น utility หรือ helper\n",
    "\n",
    "ป้องกันการเปลี่ยนแปลง state – ไม่มี instance fields ทำให้ค่าคงที่\n",
    "\n",
    "🔹 ควรใช้เมื่อ\n",
    "\n",
    "Utility Class เช่น ฟังก์ชันช่วยคำนวณ (Math.Sqrt())\n",
    "\n",
    "ค่าคงที่ทั่วโปรแกรม (Math.PI)\n",
    "\n",
    "จัดการข้อมูลที่ไม่ต้องการเก็บ state เช่น Logger.Log()"
   ]
  }
 ],
 "metadata": {
  "kernelspec": {
   "display_name": ".NET (C#)",
   "language": "C#",
   "name": ".net-csharp"
  },
  "polyglot_notebook": {
   "kernelInfo": {
    "defaultKernelName": "csharp",
    "items": [
     {
      "aliases": [],
      "languageName": "csharp",
      "name": "csharp"
     }
    ]
   }
  }
 },
 "nbformat": 4,
 "nbformat_minor": 2
}
