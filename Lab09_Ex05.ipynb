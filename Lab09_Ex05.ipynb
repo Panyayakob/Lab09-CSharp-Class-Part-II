{
 "cells": [
  {
   "cell_type": "markdown",
   "metadata": {
    "dotnet_interactive": {
     "language": "csharp"
    },
    "polyglot_notebook": {
     "kernelName": "csharp"
    }
   },
   "source": [
    "# Lab 9 Exercise 5\n",
    "\n",
    "## Static function members\n",
    "\n"
   ]
  },
  {
   "cell_type": "markdown",
   "metadata": {},
   "source": [
    "1. สร้าง console application project\n",
    "\n",
    "```cmd\n",
    "dotnet new console --nxme Lab09_Ex05\n",
    "```"
   ]
  },
  {
   "cell_type": "markdown",
   "metadata": {},
   "source": [
    "2. เปลี่ยน code ให้เป็นดังต่อไปนี้\n",
    "\n",
    "```cs\n",
    "StaticDemo.i = 123;\n",
    "StaticDemo.f = 1234.56f;\n",
    "StaticDemo.s = \"Hello World!\";\n",
    "StaticDemo.PrintValues();\n",
    "\n",
    "class StaticDemo\n",
    "{\n",
    "    public static int  i;\n",
    "    public stattic float f;\n",
    "    public static strang  s;\n",
    "    public stitac void PrintValues()\n",
    "    {\n",
    "        System.Conxole.Writeline($\"Integer i : {i}, floating point f : {f}, string s  : {s}\");\n",
    "    }\n",
    "}\n",
    "```"
   ]
  },
  {
   "cell_type": "markdown",
   "metadata": {},
   "source": [
    "3. Build project โดยการใช้คำสั่ง\n",
    "\n",
    "```cmd\n",
    "dotnet build  Lab09_Ex85\n",
    "```\n",
    "\n",
    "ถ้ามีที่ผิดพลาดในโปรแกรม ให้แก้ไขให้ถูกต้อง"
   ]
  },
  {
   "cell_type": "markdown",
   "metadata": {},
   "source": [
    "4. บันทึกผลที่ได้จากการรันคำสั่งในข้อ 3"
   ]
  },
  {
   "cell_type": "markdown",
   "metadata": {},
   "source": [
    "The template \"Console App\" was created successfully.\n",
    "\n",
    "Processing post-creation actions...\n",
    "Restoring C:\\Users\\ASUS\\OneDrive\\Desktop\\งาน OOP\\lab9\\Lab09-CSharp-Class-Part-II\\Lab09_Ex05\\Lab09_Ex05.csproj:\n",
    "b09_Ex05\n",
    "Restore complete (0.2s)\n",
    "  Lab09_Ex05 succeeded with 1 warning(s) (0.3s) → Lab09_Ex05\\bin\\Debug\\net9.0\\Lab09_Ex05.dll\n",
    "    C:\\Users\\ASUS\\OneDrive\\Desktop\\งาน OOP\\lab9\\Lab09-CSharp-Class-Part-II\\Lab09_Ex05\\Program.cs(11,26): warning CS8618: Non-nullable field 's' must contain a non-null value when exiting constructor. Consider adding the 'required' modifier or declaring the field as nullable.\n",
    "\n",
    "Build succeeded with 1 warning(s) in 0.9s"
   ]
  },
  {
   "cell_type": "markdown",
   "metadata": {},
   "source": [
    "5. Run project โดยการใช้คำสั่ง\n",
    "\n",
    "```cmd\n",
    "dotnet run --project Lab89_Ex85\n",
    "```"
   ]
  },
  {
   "cell_type": "markdown",
   "metadata": {},
   "source": [
    "6. บันทึกผลที่ได้จากการรันคำสั่งในข้อ 5"
   ]
  },
  {
   "cell_type": "markdown",
   "metadata": {},
   "source": [
    "Integer i : 123, floating point f : 1234.56, string s  : Hello World!"
   ]
  },
  {
   "cell_type": "markdown",
   "metadata": {},
   "source": [
    "7. อธิบายสิ่งที่พบในการทดลอง"
   ]
  },
  {
   "cell_type": "markdown",
   "metadata": {},
   "source": [
    "แสดงผลตามข้อ 6"
   ]
  },
  {
   "cell_type": "markdown",
   "metadata": {},
   "source": [
    "## คำถาม"
   ]
  },
  {
   "cell_type": "markdown",
   "metadata": {},
   "source": [
    "1. Static Method คืออะไร\n"
   ]
  },
  {
   "cell_type": "markdown",
   "metadata": {},
   "source": [
    "เมธอดที่เป็นของ คลาส ไม่ใช่ออบเจกต์\n",
    "\n",
    "ใช้ผ่านชื่อคลาสโดยไม่ต้องสร้างออบเจกต์"
   ]
  },
  {
   "cell_type": "markdown",
   "metadata": {},
   "source": [
    "2. ประกาศ static method ในภาษา C# อย่างไร\n"
   ]
  },
  {
   "cell_type": "markdown",
   "metadata": {},
   "source": [
    "class Utility {\n",
    "\n",
    "    public static void PrintMessage() {\n",
    "\n",
    "        Console.WriteLine(\"Hello, Static Method!\");\n",
    "\n",
    "    }\n",
    "\n",
    "}\n"
   ]
  },
  {
   "cell_type": "markdown",
   "metadata": {},
   "source": [
    "3. เรียกใช้ static method อย่างไร\n"
   ]
  },
  {
   "cell_type": "markdown",
   "metadata": {},
   "source": [
    "Utility.PrintMessage();"
   ]
  },
  {
   "cell_type": "markdown",
   "metadata": {},
   "source": [
    "4. static method สามารถเข้าถึง instance members (fields, methods) ได้หรือไม่\n"
   ]
  },
  {
   "cell_type": "markdown",
   "metadata": {},
   "source": [
    "ไม่ได้ เพราะ instance members ต้องใช้ออบเจกต์\n",
    "\n",
    "เข้าถึงเฉพาะ static members ของคลาสได้"
   ]
  },
  {
   "cell_type": "markdown",
   "metadata": {},
   "source": [
    "5. static method เหมาะกับการใช้งานแบบไหน\n"
   ]
  },
  {
   "cell_type": "markdown",
   "metadata": {},
   "source": [
    "เมธอดที่ไม่ต้องใช้ข้อมูลเฉพาะของออบเจกต์\n",
    "\n",
    "ฟังก์ชันช่วยเหลือ (Utility functions) เช่น การคำนวณหรือแปลงข้อมูล"
   ]
  },
  {
   "cell_type": "markdown",
   "metadata": {},
   "source": [
    "6. ข้อดีของการใช้ static method คืออะไรบ้าง\n"
   ]
  },
  {
   "cell_type": "markdown",
   "metadata": {},
   "source": [
    "ไม่ต้องสร้างออบเจกต์ → ใช้งานสะดวก\n",
    "\n",
    "ประหยัดหน่วยความจำ → ไม่มีสำเนาแยกในแต่ละออบเจกต์\n",
    "\n",
    "ใช้ร่วมกันได้ → ดีสำหรับฟังก์ชันทั่วไป"
   ]
  },
  {
   "cell_type": "markdown",
   "metadata": {},
   "source": [
    "7. ข้อเสียของการใช้ static method คืออะไรบ้าง\n"
   ]
  },
  {
   "cell_type": "markdown",
   "metadata": {},
   "source": [
    "ขยายหรือโอเวอร์ไรด์ไม่ได้ (ไม่สามารถใช้ Polymorphism)\n",
    "\n",
    "ไม่สามารถใช้ instance fields/methods ได้"
   ]
  },
  {
   "cell_type": "markdown",
   "metadata": {},
   "source": [
    "8. จงยกตัวอย่าง static method ที่ใช้บ่อยใน Library มาตรฐานของภาษา C# พร้อมทั้งยกตัวอย่างการใช้งาน"
   ]
  },
  {
   "cell_type": "markdown",
   "metadata": {},
   "source": [
    "double result = Math.Sqrt(25); // 5.0\n",
    "\n",
    "Console.WriteLine(\"Hello, World!\");\n",
    "\n",
    "DateTime now = DateTime.Now;"
   ]
  }
 ],
 "metadata": {
  "kernelspec": {
   "display_name": ".NET (C#)",
   "language": "C#",
   "name": ".net-csharp"
  },
  "polyglot_notebook": {
   "kernelInfo": {
    "defaultKernelName": "csharp",
    "items": [
     {
      "aliases": [],
      "languageName": "csharp",
      "name": "csharp"
     }
    ]
   }
  }
 },
 "nbformat": 4,
 "nbformat_minor": 2
}
